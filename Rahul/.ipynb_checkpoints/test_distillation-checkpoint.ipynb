{
 "cells": [
  {
   "cell_type": "code",
   "execution_count": null,
   "id": "1a80eab2-5adc-4690-8c4f-85bc3d6e4679",
   "metadata": {},
   "outputs": [],
   "source": [
    "import torch.nn as nn"
   ]
  },
  {
   "cell_type": "code",
   "execution_count": null,
   "id": "1ced7953-eef2-4006-99dd-fee4d7257fc9",
   "metadata": {},
   "outputs": [],
   "source": [
    "class DistillationLoss(nn.Module):\n",
    "    def __init__(self, temperature=1.0, alpha=0.95):\n",
    "        super(DistillationLoss, self).__init__()\n",
    "        self.temperature = nn.Parameter(torch.tensor(temperature))\n",
    "        self.alpha = alpha\n",
    "        self.loss_function = CustomMaskedLoss()\n",
    "\n",
    "    def forward(self, student_scores, student_logits, teacher_logits, labels, pipelines):\n",
    "        classification_loss = self.loss_function(student_scores, labels, pipelines)\n",
    "        distillation_loss = nn.KLDivLoss(reduction='batchmean')(F.log_softmax(student_logits / self.temperature, dim=1), F.softmax(teacher_logits / self.temperature, dim=1))\n",
    "        total_loss = self.alpha * distillation_loss + (1 - self.alpha) * classification_loss\n",
    "        return total_loss"
   ]
  },
  {
   "cell_type": "code",
   "execution_count": null,
   "id": "1f12c19f-4789-44dd-b5c3-52876f92d292",
   "metadata": {},
   "outputs": [],
   "source": [
    "class CustomMaskedLoss(nn.Module):\n",
    "    def __init__(self):\n",
    "        super(CustomMaskedLoss, self).__init__()\n",
    "        # weight = 4.0\n",
    "        # self.loss = nn.BCEWithLogitsLoss(pos_weight=torch.tensor(weight), reduction='none') if is_bs_finetune else nn.BCEWithLogitsLoss(reduction='none')\n",
    "        self.loss = nn.BCEWithLogitsLoss(reduction='none')\n",
    "\n",
    "    def forward(self, output, label, pipelines):\n",
    "        # create mask for relevant labels\n",
    "        mask = torch.ones_like(label)\n",
    "\n",
    "        if is_bs_finetune:\n",
    "            # set brand stuffing to 1, rest to 0. \n",
    "            mask[:, 0:] = 0\n",
    "            mask[:, 0] = 1\n",
    "        \n",
    "        # if pipeline is empty, then mask out all label except for \"IsSpam\"\n",
    "        for idx, pipeline in enumerate(pipelines):\n",
    "            if not is_bs_finetune:\n",
    "                # get pipeline type. Position of \"empty\", rest will be 0. \n",
    "                if sum(pipeline) == 1 and pipeline[spam_subtype_reverse_mapping[\"Empty\"]] == 1:\n",
    "                    assert label[idx, spam_subtype_reverse_mapping[\"IsSpam\"]] == 1\n",
    "                    mask[idx, :spam_subtype_reverse_mapping[\"IsSpam\"]] = 0\n",
    "                    mask[idx, spam_subtype_reverse_mapping[\"IsSpam\"]] = 1\n",
    "\n",
    "        # calculate loss and apply mask\n",
    "        loss = self.loss(output, label) # output is (batch_size, num_labels), label is (batch_size, num_labels). l\n",
    "        loss = loss * mask # 5 dim\n",
    "\n",
    "        nonzero_loss = loss[loss != 0]\n",
    "        return nonzero_loss.mean() if nonzero_loss.nelement() != 0 else torch.tensor(0.0, device=device)\n"
   ]
  }
 ],
 "metadata": {
  "kernelspec": {
   "display_name": "Python 3 (ipykernel)",
   "language": "python",
   "name": "python3"
  },
  "language_info": {
   "codemirror_mode": {
    "name": "ipython",
    "version": 3
   },
   "file_extension": ".py",
   "mimetype": "text/x-python",
   "name": "python",
   "nbconvert_exporter": "python",
   "pygments_lexer": "ipython3",
   "version": "3.9.21"
  }
 },
 "nbformat": 4,
 "nbformat_minor": 5
}
